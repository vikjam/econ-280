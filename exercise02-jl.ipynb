{
 "cells": [
  {
   "cell_type": "markdown",
   "metadata": {},
   "source": [
    "# Exercise 2"
   ]
  },
  {
   "cell_type": "code",
   "execution_count": 1,
   "metadata": {},
   "outputs": [
    {
     "name": "stdout",
     "output_type": "stream",
     "text": [
      "First-order autocovariance for 100 periods:\n",
      "Built-in: [0.376893], Manually: 0.3807000666775924\n",
      "Built-in: [0.355654], Manually: 0.3556895154620799\n"
     ]
    }
   ],
   "source": [
    "#------------#\n",
    "# Exercise 2 #\n",
    "#------------#\n",
    "\n",
    "# Load packages\n",
    "using Distributions\n",
    "using StatsBase\n",
    "\n",
    "# Set random variable\n",
    "srand(848);\n",
    "\n",
    "# Set constants\n",
    "const c   = 0.21;\n",
    "const ρ   = 0.75;\n",
    "const μ   = 0;\n",
    "const σ²  = 0.46;\n",
    "const μ_y = c / (1 - ρ);\n",
    "\n",
    "# Part (b)\n",
    "function rand_ar(T)\n",
    "    ϵ = rand(Normal(μ, σ²), T);\n",
    "    y = fill(NaN, T);\n",
    "    y[1] = μ_y + ϵ[1];\n",
    "    [y[t] = c + ρ * y[t - 1] + ϵ[t] for t in 2:T]\n",
    "    return(y)\n",
    "end;\n",
    "\n",
    "function compute_autocov(T)\n",
    "    y         = rand_ar(T)\n",
    "    μ         = mean(y)\n",
    "    γ_builtin = autocov(y, [1])\n",
    "    γ_manual  = (1 / (T - 1)) * dot(y[2:T] - μ, y[1:T-1] - μ)\n",
    "    return (γ_builtin, γ_manual)\n",
    "end;\n",
    "\n",
    "println(\"First-order autocovariance for 100 periods:\")\n",
    "compute100 = compute_autocov(100);\n",
    "println(\"Built-in: \", compute100[1], \", Manually: \", compute100[2])\n",
    "\n",
    "# Part (c)\n",
    "compute1e4 = compute_autocov(10_000)\n",
    "println(\"First-order autocovariance for 10,000 periods:\")\n",
    "println(\"Built-in: \", compute1e4[1], \", Manually: \", compute1e4[2])"
   ]
  }
 ],
 "metadata": {
  "kernelspec": {
   "display_name": "Julia 0.6.0",
   "language": "julia",
   "name": "julia-0.6"
  },
  "language_info": {
   "file_extension": ".jl",
   "mimetype": "application/julia",
   "name": "julia",
   "version": "0.6.1"
  }
 },
 "nbformat": 4,
 "nbformat_minor": 2
}
