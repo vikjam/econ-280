{
 "cells": [
  {
   "cell_type": "markdown",
   "metadata": {},
   "source": [
    "# Exercise 4"
   ]
  },
  {
   "cell_type": "code",
   "execution_count": 1,
   "metadata": {},
   "outputs": [],
   "source": [
    "using ExcelReaders # Load Excel sheets\n",
    "using DataFrames   # Tabular data library\n",
    "using Plots        # Making plots\n",
    "using StatPlots    # Plot dataframes\n",
    "gr()               # use GR as a backend, run Pkg.add(\"GR\") if you don't have it.\n",
    "using GLM          # Run regressions"
   ]
  },
  {
   "cell_type": "markdown",
   "metadata": {},
   "source": [
    "## Part (a)"
   ]
  },
  {
   "cell_type": "code",
   "execution_count": 2,
   "metadata": {},
   "outputs": [
    {
     "data": {
      "text/html": [
       "<table class=\"data-frame\"><thead><tr><th></th><th>QuarterString</th><th>Real GDP</th><th>Hours</th><th>Quarter</th></tr></thead><tbody><tr><th>1</th><td> 1948-I </td><td>1823.4</td><td>121.873</td><td>1948-01-01</td></tr><tr><th>2</th><td> 1948-II </td><td>1856.9</td><td>122.135</td><td>1948-04-01</td></tr><tr><th>3</th><td> 1948-III </td><td>1866.9</td><td>123.491</td><td>1948-07-01</td></tr><tr><th>4</th><td> 1948-IV </td><td>1869.8</td><td>123.027</td><td>1948-10-01</td></tr><tr><th>5</th><td> 1949-I </td><td>1843.8</td><td>121.615</td><td>1949-01-01</td></tr><tr><th>6</th><td> 1949-II </td><td>1837.1</td><td>120.779</td><td>1949-04-01</td></tr><tr><th>7</th><td> 1949-III </td><td>1857.7</td><td>119.069</td><td>1949-07-01</td></tr><tr><th>8</th><td> 1949-IV </td><td>1840.3</td><td>117.919</td><td>1949-10-01</td></tr><tr><th>9</th><td> 1950-I </td><td>1914.6</td><td>118.274</td><td>1950-01-01</td></tr><tr><th>10</th><td> 1950-II </td><td>1972.9</td><td>120.492</td><td>1950-04-01</td></tr><tr><th>11</th><td> 1950-III </td><td>2050.1</td><td>123.827</td><td>1950-07-01</td></tr><tr><th>12</th><td> 1950-IV </td><td>2086.2</td><td>125.444</td><td>1950-10-01</td></tr><tr><th>13</th><td> 1951-I </td><td>2112.5</td><td>128.084</td><td>1951-01-01</td></tr><tr><th>14</th><td> 1951-II </td><td>2147.6</td><td>129.497</td><td>1951-04-01</td></tr><tr><th>15</th><td> 1951-III </td><td>2190.4</td><td>128.925</td><td>1951-07-01</td></tr><tr><th>16</th><td> 1951-IV </td><td>2194.1</td><td>129.239</td><td>1951-10-01</td></tr><tr><th>17</th><td> 1952-I </td><td>2216.2</td><td>129.732</td><td>1952-01-01</td></tr><tr><th>18</th><td> 1952-II </td><td>2218.6</td><td>129.231</td><td>1952-04-01</td></tr><tr><th>19</th><td> 1952-III </td><td>2233.5</td><td>129.764</td><td>1952-07-01</td></tr><tr><th>20</th><td> 1952-IV </td><td>2307.2</td><td>132.172</td><td>1952-10-01</td></tr><tr><th>21</th><td> 1953-I </td><td>2350.4</td><td>132.645</td><td>1953-01-01</td></tr><tr><th>22</th><td> 1953-II </td><td>2368.2</td><td>132.495</td><td>1953-04-01</td></tr><tr><th>23</th><td> 1953-III </td><td>2353.8</td><td>131.624</td><td>1953-07-01</td></tr><tr><th>24</th><td> 1953-IV </td><td>2316.5</td><td>130.014</td><td>1953-10-01</td></tr><tr><th>25</th><td> 1954-I </td><td>2305.5</td><td>128.921</td><td>1954-01-01</td></tr><tr><th>26</th><td> 1954-II </td><td>2308.4</td><td>127.36</td><td>1954-04-01</td></tr><tr><th>27</th><td> 1954-III </td><td>2334.4</td><td>126.936</td><td>1954-07-01</td></tr><tr><th>28</th><td> 1954-IV </td><td>2381.2</td><td>128.134</td><td>1954-10-01</td></tr><tr><th>29</th><td> 1955-I </td><td>2449.7</td><td>130.015</td><td>1955-01-01</td></tr><tr><th>30</th><td> 1955-II </td><td>2490.3</td><td>131.031</td><td>1955-04-01</td></tr><tr><th>&vellip;</th><td>&vellip;</td><td>&vellip;</td><td>&vellip;</td><td>&vellip;</td></tr></tbody></table>"
      ],
      "text/plain": [
       "240×4 DataFrames.DataFrame\n",
       "│ Row │ QuarterString │ Real GDP │ Hours   │ Quarter    │\n",
       "├─────┼───────────────┼──────────┼─────────┼────────────┤\n",
       "│ 1   │ \" 1948-I \"    │ 1823.4   │ 121.873 │ 1948-01-01 │\n",
       "│ 2   │ \" 1948-II \"   │ 1856.9   │ 122.135 │ 1948-04-01 │\n",
       "│ 3   │ \" 1948-III \"  │ 1866.9   │ 123.491 │ 1948-07-01 │\n",
       "│ 4   │ \" 1948-IV \"   │ 1869.8   │ 123.027 │ 1948-10-01 │\n",
       "│ 5   │ \" 1949-I \"    │ 1843.8   │ 121.615 │ 1949-01-01 │\n",
       "│ 6   │ \" 1949-II \"   │ 1837.1   │ 120.779 │ 1949-04-01 │\n",
       "│ 7   │ \" 1949-III \"  │ 1857.7   │ 119.069 │ 1949-07-01 │\n",
       "│ 8   │ \" 1949-IV \"   │ 1840.3   │ 117.919 │ 1949-10-01 │\n",
       "│ 9   │ \" 1950-I \"    │ 1914.6   │ 118.274 │ 1950-01-01 │\n",
       "│ 10  │ \" 1950-II \"   │ 1972.9   │ 120.492 │ 1950-04-01 │\n",
       "│ 11  │ \" 1950-III \"  │ 2050.1   │ 123.827 │ 1950-07-01 │\n",
       "⋮\n",
       "│ 229 │ \" 2005-I \"    │ 12534.1  │ 254.205 │ 2005-01-01 │\n",
       "│ 230 │ \" 2005-II \"   │ 12587.5  │ 255.532 │ 2005-04-01 │\n",
       "│ 231 │ \" 2005-III \"  │ 12683.2  │ 256.39  │ 2005-07-01 │\n",
       "│ 232 │ \" 2005-IV\"    │ 12748.7  │ 256.865 │ 2005-10-01 │\n",
       "│ 233 │ \" 2006-I \"    │ 12915.9  │ 258.928 │ 2006-01-01 │\n",
       "│ 234 │ \" 2006-II \"   │ 12962.5  │ 259.598 │ 2006-04-01 │\n",
       "│ 235 │ \" 2006-III \"  │ 12965.9  │ 260.967 │ 2006-07-01 │\n",
       "│ 236 │ \" 2006-IV \"   │ 13060.7  │ 262.083 │ 2006-10-01 │\n",
       "│ 237 │ \" 2007-I \"    │ 13099.9  │ 261.564 │ 2007-01-01 │\n",
       "│ 238 │ \" 2007-II \"   │ 13204.0  │ 262.508 │ 2007-04-01 │\n",
       "│ 239 │ \" 2007-III \"  │ 13321.1  │ 262.276 │ 2007-07-01 │\n",
       "│ 240 │ \" 2007-IV\"    │ 13391.2  │ 262.45  │ 2007-10-01 │"
      ]
     },
     "execution_count": 2,
     "metadata": {},
     "output_type": "execute_result"
    }
   ],
   "source": [
    "US_Data = readxl(DataFrame, \"data/US_Data.xlsx\", \"Data!A3:C243\");\n",
    "rename!(US_Data, :x1, :QuarterString);\n",
    "US_Data[:Quarter] = collect(Date(1948, 1, 1):Dates.Month(3):Date(2007, 12, 31));Symbol(\"Real GDP\");\n",
    "US_Data"
   ]
  },
  {
   "cell_type": "markdown",
   "metadata": {},
   "source": [
    "## Part (b)"
   ]
  },
  {
   "cell_type": "code",
   "execution_count": null,
   "metadata": {},
   "outputs": [],
   "source": [
    "US_Data[:y] = log.(US_Data[Symbol(\"Real GDP\")]);\n",
    "@df US_Data plot(:Quarter, :y, title = \"log(Real GDP)\", legend = :topleft, label = [\"y\"])"
   ]
  },
  {
   "cell_type": "code",
   "execution_count": null,
   "metadata": {},
   "outputs": [],
   "source": [
    "US_Data[:h] = log.(US_Data[:Hours]);\n",
    "@df US_Data plot(:Quarter, :h, title = \"log(Hours)\", legend = :topleft, label = [\"h\"])"
   ]
  },
  {
   "cell_type": "markdown",
   "metadata": {},
   "source": [
    "## Part (c)"
   ]
  },
  {
   "cell_type": "code",
   "execution_count": null,
   "metadata": {},
   "outputs": [],
   "source": [
    "US_Data[:t] = 1:240;\n",
    "ols_trend   = glm(@formula(y ~ t), US_Data, Normal(), IdentityLink());"
   ]
  },
  {
   "cell_type": "markdown",
   "metadata": {},
   "source": [
    "## Part (d)"
   ]
  },
  {
   "cell_type": "code",
   "execution_count": null,
   "metadata": {},
   "outputs": [],
   "source": [
    "US_Data[:y_tr] = predict(ols_trend);\n",
    "@df US_Data plot(:Quarter, [:y :y_tr],\n",
    "                 title = \"log(Real GDP) vs. Predicted log(Real GDP)\",\n",
    "                 legend = :topleft)"
   ]
  },
  {
   "cell_type": "markdown",
   "metadata": {},
   "source": [
    "## Part (e)"
   ]
  },
  {
   "cell_type": "code",
   "execution_count": null,
   "metadata": {},
   "outputs": [],
   "source": [
    "US_Data[:y_c] = US_Data[:y] - US_Data[:y_tr];\n",
    "println(\"Standard deviation of cyclic component \", std(US_Data[:y_c]))\n",
    "\n",
    "ρ = autocov(US_Data[:y_c], [1]; demean=true);\n",
    "println(\"First-order autocorrelation \", ρ)"
   ]
  }
 ],
 "metadata": {
  "kernelspec": {
   "display_name": "Julia 0.6.1",
   "language": "julia",
   "name": "julia-0.6"
  },
  "language_info": {
   "file_extension": ".jl",
   "mimetype": "application/julia",
   "name": "julia",
   "version": "0.6.1"
  }
 },
 "nbformat": 4,
 "nbformat_minor": 2
}
